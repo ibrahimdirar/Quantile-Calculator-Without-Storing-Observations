{
 "cells": [
  {
   "cell_type": "code",
   "execution_count": 23,
   "metadata": {},
   "outputs": [
    {
     "data": {
      "text/plain": [
       "<AxesSubplot:title={'center':'Error from true median'}, ylabel='Frequency'>"
      ]
     },
     "execution_count": 23,
     "metadata": {},
     "output_type": "execute_result"
    },
    {
     "data": {
      "image/png": "[encoded data removed]",
      "text/plain": [
       "<Figure size 432x288 with 1 Axes>"
      ]
     },
     "metadata": {
      "needs_background": "light"
     },
     "output_type": "display_data"
    }
   ],
   "source": [
    "import numpy as np\n",
    "import pandas as pd\n",
    "\n",
    "# P2 Algorithm for dynamic calculation of quantiles and histograms\n",
    "# without storing observations\n",
    "# https://www.cs.wustl.edu/~jain/papers/ftp/psqr.pdf\n",
    "class P2Algorithm:\n",
    "    def __init__(self, p, verbose=True):\n",
    "        self.verbose = verbose\n",
    "        self.count = 0\n",
    "        # marker heights\n",
    "        self.q = []\n",
    "        # marker positions\n",
    "        self.n = [1, 2, 3, 4, 5]\n",
    "        # initial desired positions\n",
    "        self.n_prime = [1, 2, 3, 4, 5]\n",
    "        # incremental change to desired positions\n",
    "        self.dn_prime = [0, p/2, p, (p+1)/2, 1]\n",
    "\n",
    "    def observe(self, value):\n",
    "        # sort the first five observations and set marker heights and positions\n",
    "        if len(self.q) < 5:\n",
    "            self.q += [value]\n",
    "            self.q.sort()\n",
    "        else:\n",
    "            self._do_algo(value)\n",
    "\n",
    "    def _find_cell(self, value):\n",
    "        if value < self.q[0]:\n",
    "            return 0\n",
    "        return next((i for i in range(4) if self.q[i] <= value < self.q[i+1]), 3)\n",
    "\n",
    "    def _do_algo(self, value):\n",
    "        # find cell k such that marker_heights[i] <= value < marker_heights[i+1]\n",
    "        k = self._find_cell(value)\n",
    "        # update extremes if necessary\n",
    "        self.q[0] = min(self.q[0], value)\n",
    "        self.q[4] = max(self.q[4], value)\n",
    "\n",
    "        if self.verbose:\n",
    "            print(\"Observed value: \", value)\n",
    "            print(\"Fits after marker: \", k+1)\n",
    "    \n",
    "        # increase of positions marker k+1 through 4 by 1\n",
    "        for i in range(k+1, 5):\n",
    "            self.n[i] += 1\n",
    "\n",
    "        if self.verbose:\n",
    "            print(\"Marker position after observation: \", self.n)\n",
    "\n",
    "        # update desired positions for all markers\n",
    "        self.n_prime = np.sum([self.n, self.dn_prime], axis=0)\n",
    "\n",
    "        if self.verbose:\n",
    "            print(\"Desired marker position: \", self.n_prime)\n",
    "        \n",
    "        adjusted = []\n",
    "        # move markers to desired positions\n",
    "        for i in range(1, 4):\n",
    "            d = self.n_prime[i] - self.n[i]\n",
    "            move_right = (d >= 1 and (self.n[i+1] - self.n[i]) > 1)\n",
    "            move_left = (d <= -1 and (self.n[i] - self.n[i-1]) > 1)\n",
    "            if move_right or move_left:\n",
    "                adjusted += [i]\n",
    "                d = -1 if d < 0 else 1 # get sign of d\n",
    "\n",
    "                # piecewise parabolic interpolation\n",
    "                q_temp = self.q[i] + (d / (self.n[i+1] - self.n[i-1])) \\\n",
    "                    * ((self.n[i] - self.n[i-1] + d) * ((self.q[i+1] - self.q[i]) / (self.n[i+1] - self.n[i])) \\\n",
    "                    + (self.n[i+1] - self.n[i] - d) * ((self.q[i] - self.q[i-1]) / (self.n[i] - self.n[i-1])))\n",
    "                \n",
    "                if self.q[i - 1] < q_temp < self.q[i + 1]:\n",
    "                    self.q[i] = q_temp\n",
    "                else:\n",
    "                    # linear interpolation if p2 produdces invalid value\n",
    "                    self.q[i] = self.q[i] + d * ((self.q[i + d] - self.q[i]) / (self.n[i + d] - self.n[i]))\n",
    "\n",
    "                self.n[i] += d\n",
    "\n",
    "        if self.verbose:\n",
    "            print(\"Adjust markers\", adjusted)\n",
    "            print(\"New marker positions\", self.n)\n",
    "            print(\"Marker heights: \", self.q)\n",
    "            print()\n",
    "\n",
    "    @property\n",
    "    def quantile(self):\n",
    "        return self.q[2]\n",
    "\n",
    "true_medians = []\n",
    "p2_medians = []\n",
    "\n",
    "for _ in range(1000):\n",
    "    p2 = P2Algorithm(0.5, verbose=False)\n",
    "\n",
    "    data = np.random.normal(500, 50, 10000)\n",
    "\n",
    "    for value in data:\n",
    "        p2.observe(value)\n",
    "\n",
    "    true_medians += [np.median(data)]\n",
    "    p2_medians += [p2.quantile]\n",
    "\n",
    "results = pd.DataFrame({\"true_median\": true_medians, \"p2_median\": p2_medians})\n",
    "error = results[\"true_median\"] - results[\"p2_median\"]\n",
    "error.plot(title=\"Error from true median\", kind=\"hist\", bins=20)"
   ]
  }
 ],
 "metadata": {
  "kernelspec": {
   "display_name": "Python 3.10.0 64-bit",
   "language": "python",
   "name": "python3"
  },
  "language_info": {
   "codemirror_mode": {
    "name": "ipython",
    "version": 3
   },
   "file_extension": ".py",
   "mimetype": "text/x-python",
   "name": "python",
   "nbconvert_exporter": "python",
   "pygments_lexer": "ipython3",
   "version": "3.10.0"
  },
  "orig_nbformat": 4,
  "vscode": {
   "interpreter": {
    "hash": "949777d72b0d2535278d3dc13498b2535136f6dfe0678499012e853ee9abcab1"
   }
  }
 },
 "nbformat": 4,
 "nbformat_minor": 2
}
